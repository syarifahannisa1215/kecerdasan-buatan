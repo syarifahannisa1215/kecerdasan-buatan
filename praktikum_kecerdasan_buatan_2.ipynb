{
  "nbformat": 4,
  "nbformat_minor": 0,
  "metadata": {
    "colab": {
      "provenance": [],
      "authorship_tag": "ABX9TyPwAiA7caZ0hPa4UBL3DSn+",
      "include_colab_link": true
    },
    "kernelspec": {
      "name": "python3",
      "display_name": "Python 3"
    },
    "language_info": {
      "name": "python"
    }
  },
  "cells": [
    {
      "cell_type": "markdown",
      "metadata": {
        "id": "view-in-github",
        "colab_type": "text"
      },
      "source": [
        "<a href=\"https://colab.research.google.com/github/syarifahannisa1215/kecerdasan-buatan/blob/main/praktikum_kecerdasan_buatan_2.ipynb\" target=\"_parent\"><img src=\"https://colab.research.google.com/assets/colab-badge.svg\" alt=\"Open In Colab\"/></a>"
      ]
    },
    {
      "cell_type": "code",
      "execution_count": 9,
      "metadata": {
        "colab": {
          "base_uri": "https://localhost:8080/"
        },
        "id": "XWhWjca6JZaW",
        "outputId": "94d4b723-ea3b-4492-ad5f-b1b8ef17d646"
      },
      "outputs": [
        {
          "output_type": "stream",
          "name": "stdout",
          "text": [
            "Requirement already satisfied: google-play-scraper in /usr/local/lib/python3.11/dist-packages (1.2.7)\n",
            "Requirement already satisfied: snscrape in /usr/local/lib/python3.11/dist-packages (0.7.0.20230622)\n",
            "Requirement already satisfied: requests[socks] in /usr/local/lib/python3.11/dist-packages (from snscrape) (2.32.3)\n",
            "Requirement already satisfied: lxml in /usr/local/lib/python3.11/dist-packages (from snscrape) (5.4.0)\n",
            "Requirement already satisfied: beautifulsoup4 in /usr/local/lib/python3.11/dist-packages (from snscrape) (4.13.4)\n",
            "Requirement already satisfied: filelock in /usr/local/lib/python3.11/dist-packages (from snscrape) (3.18.0)\n",
            "Requirement already satisfied: soupsieve>1.2 in /usr/local/lib/python3.11/dist-packages (from beautifulsoup4->snscrape) (2.7)\n",
            "Requirement already satisfied: typing-extensions>=4.0.0 in /usr/local/lib/python3.11/dist-packages (from beautifulsoup4->snscrape) (4.13.2)\n",
            "Requirement already satisfied: charset-normalizer<4,>=2 in /usr/local/lib/python3.11/dist-packages (from requests[socks]->snscrape) (3.4.2)\n",
            "Requirement already satisfied: idna<4,>=2.5 in /usr/local/lib/python3.11/dist-packages (from requests[socks]->snscrape) (3.10)\n",
            "Requirement already satisfied: urllib3<3,>=1.21.1 in /usr/local/lib/python3.11/dist-packages (from requests[socks]->snscrape) (2.4.0)\n",
            "Requirement already satisfied: certifi>=2017.4.17 in /usr/local/lib/python3.11/dist-packages (from requests[socks]->snscrape) (2025.4.26)\n",
            "Requirement already satisfied: PySocks!=1.5.7,>=1.5.6 in /usr/local/lib/python3.11/dist-packages (from requests[socks]->snscrape) (1.7.1)\n",
            "Requirement already satisfied: sastrawi in /usr/local/lib/python3.11/dist-packages (1.0.1)\n"
          ]
        },
        {
          "output_type": "stream",
          "name": "stderr",
          "text": [
            "[nltk_data] Downloading package punkt to /root/nltk_data...\n",
            "[nltk_data]   Package punkt is already up-to-date!\n",
            "[nltk_data] Downloading package stopwords to /root/nltk_data...\n",
            "[nltk_data]   Package stopwords is already up-to-date!\n"
          ]
        },
        {
          "output_type": "execute_result",
          "data": {
            "text/plain": [
              "True"
            ]
          },
          "metadata": {},
          "execution_count": 9
        }
      ],
      "source": [
        "!pip install google-play-scraper\n",
        "!pip install snscrape\n",
        "\n",
        "from google_play_scraper import app, reviews, Sort, reviews_all\n",
        "\n",
        "import pandas as pd\n",
        "pd.options.mode.chained_assignment = None\n",
        "import numpy as np\n",
        "seed = 0\n",
        "np.random.seed(seed)\n",
        "import matplotlib.pyplot as plt\n",
        "import seaborn as sns\n",
        "from sklearn.metrics import accuracy_score\n",
        "\n",
        "\n",
        "import datetime as dt\n",
        "import re\n",
        "import string\n",
        "from nltk.tokenize import word_tokenize\n",
        "from nltk.corpus import stopwords\n",
        "\n",
        "!pip install sastrawi\n",
        "from Sastrawi.Stemmer.StemmerFactory import StemmerFactory\n",
        "from Sastrawi.StopWordRemover.StopWordRemoverFactory import StopWordRemoverFactory\n",
        "from wordcloud import WordCloud\n",
        "\n",
        "import nltk\n",
        "nltk.download('punkt')\n",
        "nltk.download('stopwords')"
      ]
    },
    {
      "cell_type": "code",
      "source": [
        "from google.colab import files\n",
        "uploaded = files.upload()\n"
      ],
      "metadata": {
        "colab": {
          "base_uri": "https://localhost:8080/",
          "height": 73
        },
        "id": "oqhMKw4tRJm0",
        "outputId": "289ce56f-b52a-42e9-9d24-1ac9675c5c0d"
      },
      "execution_count": 15,
      "outputs": [
        {
          "output_type": "display_data",
          "data": {
            "text/plain": [
              "<IPython.core.display.HTML object>"
            ],
            "text/html": [
              "\n",
              "     <input type=\"file\" id=\"files-9b352a75-9b3d-4e52-8f6d-cc4aa2904a19\" name=\"files[]\" multiple disabled\n",
              "        style=\"border:none\" />\n",
              "     <output id=\"result-9b352a75-9b3d-4e52-8f6d-cc4aa2904a19\">\n",
              "      Upload widget is only available when the cell has been executed in the\n",
              "      current browser session. Please rerun this cell to enable.\n",
              "      </output>\n",
              "      <script>// Copyright 2017 Google LLC\n",
              "//\n",
              "// Licensed under the Apache License, Version 2.0 (the \"License\");\n",
              "// you may not use this file except in compliance with the License.\n",
              "// You may obtain a copy of the License at\n",
              "//\n",
              "//      http://www.apache.org/licenses/LICENSE-2.0\n",
              "//\n",
              "// Unless required by applicable law or agreed to in writing, software\n",
              "// distributed under the License is distributed on an \"AS IS\" BASIS,\n",
              "// WITHOUT WARRANTIES OR CONDITIONS OF ANY KIND, either express or implied.\n",
              "// See the License for the specific language governing permissions and\n",
              "// limitations under the License.\n",
              "\n",
              "/**\n",
              " * @fileoverview Helpers for google.colab Python module.\n",
              " */\n",
              "(function(scope) {\n",
              "function span(text, styleAttributes = {}) {\n",
              "  const element = document.createElement('span');\n",
              "  element.textContent = text;\n",
              "  for (const key of Object.keys(styleAttributes)) {\n",
              "    element.style[key] = styleAttributes[key];\n",
              "  }\n",
              "  return element;\n",
              "}\n",
              "\n",
              "// Max number of bytes which will be uploaded at a time.\n",
              "const MAX_PAYLOAD_SIZE = 100 * 1024;\n",
              "\n",
              "function _uploadFiles(inputId, outputId) {\n",
              "  const steps = uploadFilesStep(inputId, outputId);\n",
              "  const outputElement = document.getElementById(outputId);\n",
              "  // Cache steps on the outputElement to make it available for the next call\n",
              "  // to uploadFilesContinue from Python.\n",
              "  outputElement.steps = steps;\n",
              "\n",
              "  return _uploadFilesContinue(outputId);\n",
              "}\n",
              "\n",
              "// This is roughly an async generator (not supported in the browser yet),\n",
              "// where there are multiple asynchronous steps and the Python side is going\n",
              "// to poll for completion of each step.\n",
              "// This uses a Promise to block the python side on completion of each step,\n",
              "// then passes the result of the previous step as the input to the next step.\n",
              "function _uploadFilesContinue(outputId) {\n",
              "  const outputElement = document.getElementById(outputId);\n",
              "  const steps = outputElement.steps;\n",
              "\n",
              "  const next = steps.next(outputElement.lastPromiseValue);\n",
              "  return Promise.resolve(next.value.promise).then((value) => {\n",
              "    // Cache the last promise value to make it available to the next\n",
              "    // step of the generator.\n",
              "    outputElement.lastPromiseValue = value;\n",
              "    return next.value.response;\n",
              "  });\n",
              "}\n",
              "\n",
              "/**\n",
              " * Generator function which is called between each async step of the upload\n",
              " * process.\n",
              " * @param {string} inputId Element ID of the input file picker element.\n",
              " * @param {string} outputId Element ID of the output display.\n",
              " * @return {!Iterable<!Object>} Iterable of next steps.\n",
              " */\n",
              "function* uploadFilesStep(inputId, outputId) {\n",
              "  const inputElement = document.getElementById(inputId);\n",
              "  inputElement.disabled = false;\n",
              "\n",
              "  const outputElement = document.getElementById(outputId);\n",
              "  outputElement.innerHTML = '';\n",
              "\n",
              "  const pickedPromise = new Promise((resolve) => {\n",
              "    inputElement.addEventListener('change', (e) => {\n",
              "      resolve(e.target.files);\n",
              "    });\n",
              "  });\n",
              "\n",
              "  const cancel = document.createElement('button');\n",
              "  inputElement.parentElement.appendChild(cancel);\n",
              "  cancel.textContent = 'Cancel upload';\n",
              "  const cancelPromise = new Promise((resolve) => {\n",
              "    cancel.onclick = () => {\n",
              "      resolve(null);\n",
              "    };\n",
              "  });\n",
              "\n",
              "  // Wait for the user to pick the files.\n",
              "  const files = yield {\n",
              "    promise: Promise.race([pickedPromise, cancelPromise]),\n",
              "    response: {\n",
              "      action: 'starting',\n",
              "    }\n",
              "  };\n",
              "\n",
              "  cancel.remove();\n",
              "\n",
              "  // Disable the input element since further picks are not allowed.\n",
              "  inputElement.disabled = true;\n",
              "\n",
              "  if (!files) {\n",
              "    return {\n",
              "      response: {\n",
              "        action: 'complete',\n",
              "      }\n",
              "    };\n",
              "  }\n",
              "\n",
              "  for (const file of files) {\n",
              "    const li = document.createElement('li');\n",
              "    li.append(span(file.name, {fontWeight: 'bold'}));\n",
              "    li.append(span(\n",
              "        `(${file.type || 'n/a'}) - ${file.size} bytes, ` +\n",
              "        `last modified: ${\n",
              "            file.lastModifiedDate ? file.lastModifiedDate.toLocaleDateString() :\n",
              "                                    'n/a'} - `));\n",
              "    const percent = span('0% done');\n",
              "    li.appendChild(percent);\n",
              "\n",
              "    outputElement.appendChild(li);\n",
              "\n",
              "    const fileDataPromise = new Promise((resolve) => {\n",
              "      const reader = new FileReader();\n",
              "      reader.onload = (e) => {\n",
              "        resolve(e.target.result);\n",
              "      };\n",
              "      reader.readAsArrayBuffer(file);\n",
              "    });\n",
              "    // Wait for the data to be ready.\n",
              "    let fileData = yield {\n",
              "      promise: fileDataPromise,\n",
              "      response: {\n",
              "        action: 'continue',\n",
              "      }\n",
              "    };\n",
              "\n",
              "    // Use a chunked sending to avoid message size limits. See b/62115660.\n",
              "    let position = 0;\n",
              "    do {\n",
              "      const length = Math.min(fileData.byteLength - position, MAX_PAYLOAD_SIZE);\n",
              "      const chunk = new Uint8Array(fileData, position, length);\n",
              "      position += length;\n",
              "\n",
              "      const base64 = btoa(String.fromCharCode.apply(null, chunk));\n",
              "      yield {\n",
              "        response: {\n",
              "          action: 'append',\n",
              "          file: file.name,\n",
              "          data: base64,\n",
              "        },\n",
              "      };\n",
              "\n",
              "      let percentDone = fileData.byteLength === 0 ?\n",
              "          100 :\n",
              "          Math.round((position / fileData.byteLength) * 100);\n",
              "      percent.textContent = `${percentDone}% done`;\n",
              "\n",
              "    } while (position < fileData.byteLength);\n",
              "  }\n",
              "\n",
              "  // All done.\n",
              "  yield {\n",
              "    response: {\n",
              "      action: 'complete',\n",
              "    }\n",
              "  };\n",
              "}\n",
              "\n",
              "scope.google = scope.google || {};\n",
              "scope.google.colab = scope.google.colab || {};\n",
              "scope.google.colab._files = {\n",
              "  _uploadFiles,\n",
              "  _uploadFilesContinue,\n",
              "};\n",
              "})(self);\n",
              "</script> "
            ]
          },
          "metadata": {}
        },
        {
          "output_type": "stream",
          "name": "stdout",
          "text": [
            "Saving ulasan_duolingo_1000.csv to ulasan_duolingo_1000.csv\n"
          ]
        }
      ]
    },
    {
      "cell_type": "code",
      "source": [
        "import pandas as pd\n",
        "\n",
        "df = pd.read_csv('ulasan_duolingo_1000.csv')\n",
        "\n",
        "print(df.columns)"
      ],
      "metadata": {
        "colab": {
          "base_uri": "https://localhost:8080/"
        },
        "id": "wWMRHr38KWxX",
        "outputId": "d4c0c91b-5122-4527-ab50-67f4fa33541f"
      },
      "execution_count": 16,
      "outputs": [
        {
          "output_type": "stream",
          "name": "stdout",
          "text": [
            "Index(['reviewId', 'userName', 'userImage', 'content', 'score',\n",
            "       'thumbsUpCount', 'reviewCreatedVersion', 'at', 'replyContent',\n",
            "       'repliedAt', 'appVersion'],\n",
            "      dtype='object')\n"
          ]
        }
      ]
    },
    {
      "cell_type": "code",
      "source": [
        "import pandas as pd\n",
        "import re\n",
        "import nltk\n",
        "nltk.download('stopwords')\n",
        "from nltk.corpus import stopwords\n",
        "\n",
        "df = pd.read_csv('ulasan_duolingo_1000.csv')\n",
        "df = df[['content']].dropna()\n",
        "\n",
        "\n",
        "def cleaningText(text):\n",
        "    text = text.lower()\n",
        "    text = re.sub(r'[^a-zA-Z\\s]', ' ', text)\n",
        "    text = re.sub(r'\\s+', ' ', text)\n",
        "    return text.strip()\n",
        "\n",
        "df['text_clean'] = df['content'].apply(cleaningText)\n",
        "\n",
        "\n",
        "slangwords = {\n",
        "    \"gk\": \"tidak\", \"ga\": \"tidak\", \"nggak\": \"tidak\", \"tdk\": \"tidak\",\n",
        "    \"bgt\": \"banget\", \"dr\": \"dari\", \"dgn\": \"dengan\", \"tp\": \"tapi\",\n",
        "    \"udh\": \"sudah\", \"blm\": \"belum\", \"trs\": \"terus\", \"jg\": \"juga\"\n",
        "}\n",
        "\n",
        "def fix_slangwords(text):\n",
        "    return ' '.join([slangwords.get(word, word) for word in text.split()])\n",
        "\n",
        "df['text_slang'] = df['text_clean'].apply(fix_slangwords)\n",
        "\n",
        "\n",
        "def tokenizingText(text):\n",
        "    return text.split()\n",
        "\n",
        "df['text_tokens'] = df['text_slang'].apply(tokenizingText)\n",
        "\n",
        "\n",
        "stop_words = set(stopwords.words('indonesian'))\n",
        "\n",
        "def filteringText(words):\n",
        "    return [word for word in words if word not in stop_words]\n",
        "\n",
        "df['text_stopwords'] = df['text_tokens'].apply(filteringText)\n",
        "\n",
        "\n",
        "def toSentence(words):\n",
        "    return ' '.join(words)\n",
        "\n",
        "df['text_final'] = df['text_stopwords'].apply(toSentence)\n",
        "\n",
        "\n",
        "print(df[['content', 'text_final']].head())"
      ],
      "metadata": {
        "colab": {
          "base_uri": "https://localhost:8080/"
        },
        "id": "j3VigqUTOae-",
        "outputId": "8860e997-57f1-4044-d600-ecd1b3c508c8"
      },
      "execution_count": 18,
      "outputs": [
        {
          "output_type": "stream",
          "name": "stdout",
          "text": [
            "                                             content  \\\n",
            "0                                         iklan mulu   \n",
            "1  untuk fitur berbicara sangat buruk ketika di t...   \n",
            "2  lama² ada unsur LGBT nya, gmn kalo itu di liat...   \n",
            "3                          pinter tapi ada kesalahan   \n",
            "4  Berkat Duolingo,aku jadi bisa belajar bahasa y...   \n",
            "\n",
            "                                          text_final  \n",
            "0                                         iklan mulu  \n",
            "1                        fitur berbicara buruk ramai  \n",
            "2  unsur lgbt nya gmn kalo liat anak bagus tolong...  \n",
            "3                                   pinter kesalahan  \n",
            "4  berkat duolingo belajar bahasa negeri indonesi...  \n"
          ]
        },
        {
          "output_type": "stream",
          "name": "stderr",
          "text": [
            "[nltk_data] Downloading package stopwords to /root/nltk_data...\n",
            "[nltk_data]   Package stopwords is already up-to-date!\n"
          ]
        }
      ]
    },
    {
      "cell_type": "code",
      "source": [
        "from Sastrawi.Stemmer.StemmerFactory import StemmerFactory\n",
        "\n",
        "factory = StemmerFactory()\n",
        "stemmer = factory.create_stemmer()\n",
        "\n",
        "def stemmingText(text):\n",
        "    return stemmer.stem(text)\n",
        "\n",
        "\n",
        "df['text_stemmed'] = df['text_final'].apply(stemmingText)\n",
        "\n",
        "\n",
        "print(df[['content', 'text_final', 'text_stemmed']].head())"
      ],
      "metadata": {
        "colab": {
          "base_uri": "https://localhost:8080/"
        },
        "id": "tcPfH3iBPuP6",
        "outputId": "e08d68db-2054-4f6e-b004-2156e23c6e6c"
      },
      "execution_count": 19,
      "outputs": [
        {
          "output_type": "stream",
          "name": "stdout",
          "text": [
            "                                             content  \\\n",
            "0                                         iklan mulu   \n",
            "1  untuk fitur berbicara sangat buruk ketika di t...   \n",
            "2  lama² ada unsur LGBT nya, gmn kalo itu di liat...   \n",
            "3                          pinter tapi ada kesalahan   \n",
            "4  Berkat Duolingo,aku jadi bisa belajar bahasa y...   \n",
            "\n",
            "                                          text_final  \\\n",
            "0                                         iklan mulu   \n",
            "1                        fitur berbicara buruk ramai   \n",
            "2  unsur lgbt nya gmn kalo liat anak bagus tolong...   \n",
            "3                                   pinter kesalahan   \n",
            "4  berkat duolingo belajar bahasa negeri indonesi...   \n",
            "\n",
            "                                        text_stemmed  \n",
            "0                                         iklan mulu  \n",
            "1                           fitur bicara buruk ramai  \n",
            "2  unsur lgbt nya gmn kalo liat anak bagus tolong...  \n",
            "3                                       pinter salah  \n",
            "4  berkat duolingo ajar bahasa negeri indonesia b...  \n"
          ]
        }
      ]
    },
    {
      "cell_type": "code",
      "source": [
        "positive_words = {\n",
        "    'bagus', 'baik', 'mantap', 'suka', 'cepat', 'puas', 'lancar', 'mudah',\n",
        "    'keren', 'mantul', 'top', 'rekomendasi', 'senang', 'cocok', 'berhasil'\n",
        "}\n",
        "negative_words = {\n",
        "    'buruk', 'jelek', 'lama', 'error', 'parah', 'lemot', 'kecewa', 'susah',\n",
        "    'gagal', 'crash', 'keluar', 'hang', 'payah', 'benci', 'ribet'\n",
        "}\n",
        "\n",
        "# Fungsi analisis sentimen\n",
        "def sentiment_analysis_lexicon_indonesia(text):\n",
        "    score = 0\n",
        "    for word in text.split():\n",
        "        if word in positive_words:\n",
        "            score += 1\n",
        "        elif word in negative_words:\n",
        "            score -= 1\n",
        "    if score > 0:\n",
        "        label = 'positif'\n",
        "    elif score < 0:\n",
        "        label = 'negatif'\n",
        "    else:\n",
        "        label = 'netral'\n",
        "    return score, label"
      ],
      "metadata": {
        "id": "entMzId6PvIE"
      },
      "execution_count": 20,
      "outputs": []
    },
    {
      "cell_type": "code",
      "source": [
        "results = df['text_final'].apply(sentiment_analysis_lexicon_indonesia)\n",
        "results = list(zip(*results))\n",
        "df['polarity_score'] = results[0]\n",
        "df['polarity'] = results[1]"
      ],
      "metadata": {
        "id": "ck5eqWlzSL7l"
      },
      "execution_count": 21,
      "outputs": []
    },
    {
      "cell_type": "code",
      "source": [
        "print(df[['content', 'text_stemmed', 'polarity_score', 'polarity']].head)"
      ],
      "metadata": {
        "colab": {
          "base_uri": "https://localhost:8080/"
        },
        "id": "QIFhkhgXTE9I",
        "outputId": "257970f9-12ab-4986-8818-3ff14e22845f"
      },
      "execution_count": 22,
      "outputs": [
        {
          "output_type": "stream",
          "name": "stdout",
          "text": [
            "<bound method NDFrame.head of                                                content  \\\n",
            "0                                           iklan mulu   \n",
            "1    untuk fitur berbicara sangat buruk ketika di t...   \n",
            "2    lama² ada unsur LGBT nya, gmn kalo itu di liat...   \n",
            "3                            pinter tapi ada kesalahan   \n",
            "4    Berkat Duolingo,aku jadi bisa belajar bahasa y...   \n",
            "..                                                 ...   \n",
            "995        this program is very good for study english   \n",
            "996  bagus banget tapi aku malah milih jawabannya n...   \n",
            "997                                            hebattt   \n",
            "998  sudah baguss,,tapi msh ada iklan iklan yg meng...   \n",
            "999                                        Tampa biaya   \n",
            "\n",
            "                                          text_stemmed  polarity_score  \\\n",
            "0                                           iklan mulu               0   \n",
            "1                             fitur bicara buruk ramai              -1   \n",
            "2    unsur lgbt nya gmn kalo liat anak bagus tolong...               1   \n",
            "3                                         pinter salah               0   \n",
            "4    berkat duolingo ajar bahasa negeri indonesia b...               0   \n",
            "..                                                 ...             ...   \n",
            "995        this program is very good for study english               0   \n",
            "996        bagus banget milih jawab nebak kadang bener               1   \n",
            "997                                            hebattt               0   \n",
            "998      baguss msh iklan iklan yg menggangu iklan yaa               0   \n",
            "999                                        tampa biaya               0   \n",
            "\n",
            "    polarity  \n",
            "0     netral  \n",
            "1    negatif  \n",
            "2    positif  \n",
            "3     netral  \n",
            "4     netral  \n",
            "..       ...  \n",
            "995   netral  \n",
            "996  positif  \n",
            "997   netral  \n",
            "998   netral  \n",
            "999   netral  \n",
            "\n",
            "[1000 rows x 4 columns]>\n"
          ]
        }
      ]
    },
    {
      "cell_type": "code",
      "source": [
        "x = df['text_stemmed']\n",
        "y = df['polarity']"
      ],
      "metadata": {
        "id": "CRW9Yo26TXcK"
      },
      "execution_count": 23,
      "outputs": []
    },
    {
      "cell_type": "code",
      "source": [
        "from sklearn.model_selection import train_test_split\n",
        "\n",
        "#80/20\n",
        "x_train_80, x_test_20, y_train_80, y_test_20 = train_test_split(\n",
        "    x, y, test_size=0.2, random_state=42, stratify=y)\n",
        "\n",
        "#70/30\n",
        "X_train_70, x_test_30, y_train_70, y_test_30 = train_test_split(\n",
        "    x, y, test_size=0.3, random_state=42, stratify=y)\n",
        "\n",
        "#60/40\n",
        "x_train_60, x_test_40, y_train_60, y_test_40 = train_test_split(\n",
        "    x, y, test_size=0.4, random_state=42, stratify=y)"
      ],
      "metadata": {
        "id": "wU9wTJA-Tkfn"
      },
      "execution_count": 25,
      "outputs": []
    },
    {
      "cell_type": "code",
      "source": [
        "print(\"Distribusi label skema 80/20:\\n\", y_train_80.value_counts(normalize=True))\n",
        "print(\"\\nDistribusi label skema 70/30:\\n\", y_train_70.value_counts(normalize=True))\n",
        "print(\"\\nDistribusi label skema 60/40:\\n\", y_train_60.value_counts(normalize=True))\n"
      ],
      "metadata": {
        "colab": {
          "base_uri": "https://localhost:8080/"
        },
        "id": "ovV8nxXGU1oP",
        "outputId": "9b1c99c9-c804-4b8d-ad9d-38c957308dd7"
      },
      "execution_count": 27,
      "outputs": [
        {
          "output_type": "stream",
          "name": "stdout",
          "text": [
            "Distribusi label skema 80/20:\n",
            " polarity\n",
            "netral     0.54375\n",
            "positif    0.44875\n",
            "negatif    0.00750\n",
            "Name: proportion, dtype: float64\n",
            "\n",
            "Distribusi label skema 70/30:\n",
            " polarity\n",
            "netral     0.544286\n",
            "positif    0.448571\n",
            "negatif    0.007143\n",
            "Name: proportion, dtype: float64\n",
            "\n",
            "Distribusi label skema 60/40:\n",
            " polarity\n",
            "netral     0.543333\n",
            "positif    0.450000\n",
            "negatif    0.006667\n",
            "Name: proportion, dtype: float64\n"
          ]
        }
      ]
    },
    {
      "cell_type": "code",
      "source": [
        "data_splits = {\n",
        "    '80_20': (x_train_80, x_test_20, y_train_80, y_test_20),\n",
        "    '70_30': (X_train_70, x_test_30, y_train_70, y_test_30),\n",
        "    '60_40': (x_train_60, x_test_40, y_train_60, y_test_40)\n",
        "}\n"
      ],
      "metadata": {
        "id": "AmCXbRkhYTUT"
      },
      "execution_count": 31,
      "outputs": []
    },
    {
      "cell_type": "code",
      "source": [
        "from sklearn.pipeline import Pipeline\n",
        "from sklearn.feature_extraction.text import TfidfVectorizer\n",
        "from sklearn.svm import SVC\n",
        "from sklearn.ensemble import RandomForestClassifier\n",
        "from sklearn.metrics import classification_report, confusion_matrix, accuracy_score\n",
        "\n",
        "import matplotlib.pyplot as plt\n",
        "import seaborn as sns\n",
        "\n",
        "def train_and_evaluate(model_name, model, split_key, data_splits):\n",
        "    X_train, X_test, y_train, y_test = data_splits[split_key]\n",
        "\n",
        "    pipeline = Pipeline([\n",
        "        ('tfidf', TfidfVectorizer(ngram_range=(1, 2), max_features=5000)),\n",
        "        ('clf', model)\n",
        "    ])\n",
        "\n",
        "    pipeline.fit(X_train, y_train)\n",
        "\n",
        "\n",
        "    y_pred = pipeline.predict(X_test)\n",
        "\n",
        "    print(f\"Evaluasi untuk model {model_name} (skema {split_key}):\\n\")\n",
        "    print(classification_report(y_test, y_pred))\n",
        "    print(f\"Akurasi: {accuracy_score(y_test, y_pred):.4f}\")\n",
        "\n",
        "    # Confusion matrix\n",
        "    cm = confusion_matrix(y_test, y_pred, labels=['positif', 'netral', 'negatif'])\n",
        "    plt.figure(figsize=(6, 4))\n",
        "    sns.heatmap(cm, annot=True, fmt='d', xticklabels=['positif', 'netral', 'negatif'],yticklabels=['positif', 'netral', 'negatif'], cmap=\"Blues\")\n",
        "    plt.title(f\"Confusion Matrix - {model_name} ({split_key})\")\n",
        "    plt.xlabel(\"Predicted\")\n",
        "    plt.ylabel(\"True\")\n",
        "    plt.show()\n",
        "\n",
        "    return pipeline\n"
      ],
      "metadata": {
        "id": "Q3ehjxZ6WVaz"
      },
      "execution_count": 33,
      "outputs": []
    },
    {
      "cell_type": "code",
      "source": [
        "svm_model_80 = train_and_evaluate(\"SVM\", SVC(kernel='linear'), '80_20', data_splits)\n",
        "\n",
        "rf_model_70 = train_and_evaluate(\"Random Forest\", RandomForestClassifier(n_estimators=100), '70_30', data_splits)\n",
        "\n",
        "svm_model_60 = train_and_evaluate(\"SVM 60/40\", SVC(kernel='linear'), '60_40', data_splits)\n"
      ],
      "metadata": {
        "colab": {
          "base_uri": "https://localhost:8080/",
          "height": 1000
        },
        "id": "Uef3xOAddPLE",
        "outputId": "bd3d8533-fccb-4547-ab03-724db4e5870a"
      },
      "execution_count": 37,
      "outputs": [
        {
          "output_type": "stream",
          "name": "stdout",
          "text": [
            "Evaluasi untuk model SVM (skema 80_20):\n",
            "\n",
            "              precision    recall  f1-score   support\n",
            "\n",
            "     negatif       0.00      0.00      0.00         1\n",
            "      netral       0.90      0.95      0.93       109\n",
            "     positif       0.94      0.89      0.91        90\n",
            "\n",
            "    accuracy                           0.92       200\n",
            "   macro avg       0.62      0.61      0.61       200\n",
            "weighted avg       0.92      0.92      0.92       200\n",
            "\n",
            "Akurasi: 0.9200\n"
          ]
        },
        {
          "output_type": "stream",
          "name": "stderr",
          "text": [
            "/usr/local/lib/python3.11/dist-packages/sklearn/metrics/_classification.py:1565: UndefinedMetricWarning: Precision is ill-defined and being set to 0.0 in labels with no predicted samples. Use `zero_division` parameter to control this behavior.\n",
            "  _warn_prf(average, modifier, f\"{metric.capitalize()} is\", len(result))\n",
            "/usr/local/lib/python3.11/dist-packages/sklearn/metrics/_classification.py:1565: UndefinedMetricWarning: Precision is ill-defined and being set to 0.0 in labels with no predicted samples. Use `zero_division` parameter to control this behavior.\n",
            "  _warn_prf(average, modifier, f\"{metric.capitalize()} is\", len(result))\n",
            "/usr/local/lib/python3.11/dist-packages/sklearn/metrics/_classification.py:1565: UndefinedMetricWarning: Precision is ill-defined and being set to 0.0 in labels with no predicted samples. Use `zero_division` parameter to control this behavior.\n",
            "  _warn_prf(average, modifier, f\"{metric.capitalize()} is\", len(result))\n"
          ]
        },
        {
          "output_type": "display_data",
          "data": {
            "text/plain": [
              "<Figure size 600x400 with 2 Axes>"
            ],
            "image/png": "[encoded data removed]"
          },
          "metadata": {}
        },
        {
          "output_type": "stream",
          "name": "stdout",
          "text": [
            "Evaluasi untuk model Random Forest (skema 70_30):\n",
            "\n",
            "              precision    recall  f1-score   support\n",
            "\n",
            "     negatif       0.00      0.00      0.00         2\n",
            "      netral       0.90      0.98      0.94       163\n",
            "     positif       0.98      0.88      0.93       135\n",
            "\n",
            "    accuracy                           0.93       300\n",
            "   macro avg       0.62      0.62      0.62       300\n",
            "weighted avg       0.93      0.93      0.93       300\n",
            "\n",
            "Akurasi: 0.9300\n"
          ]
        },
        {
          "output_type": "stream",
          "name": "stderr",
          "text": [
            "/usr/local/lib/python3.11/dist-packages/sklearn/metrics/_classification.py:1565: UndefinedMetricWarning: Precision is ill-defined and being set to 0.0 in labels with no predicted samples. Use `zero_division` parameter to control this behavior.\n",
            "  _warn_prf(average, modifier, f\"{metric.capitalize()} is\", len(result))\n",
            "/usr/local/lib/python3.11/dist-packages/sklearn/metrics/_classification.py:1565: UndefinedMetricWarning: Precision is ill-defined and being set to 0.0 in labels with no predicted samples. Use `zero_division` parameter to control this behavior.\n",
            "  _warn_prf(average, modifier, f\"{metric.capitalize()} is\", len(result))\n",
            "/usr/local/lib/python3.11/dist-packages/sklearn/metrics/_classification.py:1565: UndefinedMetricWarning: Precision is ill-defined and being set to 0.0 in labels with no predicted samples. Use `zero_division` parameter to control this behavior.\n",
            "  _warn_prf(average, modifier, f\"{metric.capitalize()} is\", len(result))\n"
          ]
        },
        {
          "output_type": "display_data",
          "data": {
            "text/plain": [
              "<Figure size 600x400 with 2 Axes>"
            ],
            "image/png": "[encoded data removed]"
          },
          "metadata": {}
        },
        {
          "output_type": "stream",
          "name": "stdout",
          "text": [
            "Evaluasi untuk model SVM 60/40 (skema 60_40):\n",
            "\n",
            "              precision    recall  f1-score   support\n",
            "\n",
            "     negatif       0.00      0.00      0.00         3\n",
            "      netral       0.89      0.96      0.92       218\n",
            "     positif       0.95      0.87      0.90       179\n",
            "\n",
            "    accuracy                           0.91       400\n",
            "   macro avg       0.61      0.61      0.61       400\n",
            "weighted avg       0.91      0.91      0.91       400\n",
            "\n",
            "Akurasi: 0.9100\n"
          ]
        },
        {
          "output_type": "stream",
          "name": "stderr",
          "text": [
            "/usr/local/lib/python3.11/dist-packages/sklearn/metrics/_classification.py:1565: UndefinedMetricWarning: Precision is ill-defined and being set to 0.0 in labels with no predicted samples. Use `zero_division` parameter to control this behavior.\n",
            "  _warn_prf(average, modifier, f\"{metric.capitalize()} is\", len(result))\n",
            "/usr/local/lib/python3.11/dist-packages/sklearn/metrics/_classification.py:1565: UndefinedMetricWarning: Precision is ill-defined and being set to 0.0 in labels with no predicted samples. Use `zero_division` parameter to control this behavior.\n",
            "  _warn_prf(average, modifier, f\"{metric.capitalize()} is\", len(result))\n",
            "/usr/local/lib/python3.11/dist-packages/sklearn/metrics/_classification.py:1565: UndefinedMetricWarning: Precision is ill-defined and being set to 0.0 in labels with no predicted samples. Use `zero_division` parameter to control this behavior.\n",
            "  _warn_prf(average, modifier, f\"{metric.capitalize()} is\", len(result))\n"
          ]
        },
        {
          "output_type": "display_data",
          "data": {
            "text/plain": [
              "<Figure size 600x400 with 2 Axes>"
            ],
            "image/png": "[encoded data removed]"
          },
          "metadata": {}
        }
      ]
    }
  ]
}